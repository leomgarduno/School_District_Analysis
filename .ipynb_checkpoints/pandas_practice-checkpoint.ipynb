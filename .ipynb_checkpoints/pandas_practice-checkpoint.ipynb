{
 "cells": [
  {
   "cell_type": "code",
   "execution_count": 3,
   "id": "cd971b54",
   "metadata": {},
   "outputs": [],
   "source": [
    "# Add the Pandas dependency.\n",
    "import pandas as pd"
   ]
  },
  {
   "cell_type": "code",
   "execution_count": 4,
   "id": "061a5f6b",
   "metadata": {},
   "outputs": [],
   "source": [
    "# List of high schools\n",
    "high_schools = [\"Hernandez High School\", \"Figueroa High School\",\n",
    "                \"Wilson High School\",\"Wright High School\"]"
   ]
  },
  {
   "cell_type": "code",
   "execution_count": 5,
   "id": "bb9b5458",
   "metadata": {},
   "outputs": [],
   "source": [
    "# Create a Pandas Series from a list.\n",
    "school_series = pd.Series(high_schools)"
   ]
  },
  {
   "cell_type": "code",
   "execution_count": 6,
   "id": "6ce1be5c",
   "metadata": {},
   "outputs": [
    {
     "data": {
      "text/plain": [
       "0    Hernandez High School\n",
       "1     Figueroa High School\n",
       "2       Wilson High School\n",
       "3       Wright High School\n",
       "dtype: object"
      ]
     },
     "execution_count": 6,
     "metadata": {},
     "output_type": "execute_result"
    }
   ],
   "source": [
    "# Create a Pandas Series from a list.\n",
    "school_series = pd.Series(high_schools)\n",
    "school_series"
   ]
  },
  {
   "cell_type": "code",
   "execution_count": 7,
   "id": "3bc305ea",
   "metadata": {},
   "outputs": [
    {
     "name": "stdout",
     "output_type": "stream",
     "text": [
      "Hernandez High School\n",
      "Figueroa High School\n",
      "Wilson High School\n",
      "Wright High School\n"
     ]
    }
   ],
   "source": [
    "for school in high_schools:\n",
    "    print(school)"
   ]
  },
  {
   "cell_type": "code",
   "execution_count": 10,
   "id": "1770fb4e",
   "metadata": {},
   "outputs": [],
   "source": [
    "# A dictionary of high schools and the type of school.\n",
    "high_school_types = [{\"High School\": \"Griffin\", \"Type\":\"District\"},\n",
    "                    {\"High School\": \"Figueroa\", \"Type\": \"District\"},\n",
    "                    {\"High School\": \"Wilson\", \"Type\": \"Charter\"},\n",
    "                    {\"High School\": \"Wright\", \"Type\": \"Charter\"}]"
   ]
  },
  {
   "cell_type": "code",
   "execution_count": 11,
   "id": "5643a0f6",
   "metadata": {},
   "outputs": [
    {
     "name": "stdout",
     "output_type": "stream",
     "text": [
      "{'High School': 'Griffin', 'Type': 'District'}\n",
      "{'High School': 'Figueroa', 'Type': 'District'}\n",
      "{'High School': 'Wilson', 'Type': 'Charter'}\n",
      "{'High School': 'Wright', 'Type': 'Charter'}\n"
     ]
    }
   ],
   "source": [
    "for school in high_school_types:\n",
    "    print(school)"
   ]
  },
  {
   "cell_type": "code",
   "execution_count": null,
   "id": "aa27005e",
   "metadata": {},
   "outputs": [],
   "source": []
  }
 ],
 "metadata": {
  "kernelspec": {
   "display_name": "PythonData",
   "language": "python",
   "name": "pythondata"
  },
  "language_info": {
   "codemirror_mode": {
    "name": "ipython",
    "version": 3
   },
   "file_extension": ".py",
   "mimetype": "text/x-python",
   "name": "python",
   "nbconvert_exporter": "python",
   "pygments_lexer": "ipython3",
   "version": "3.8.5"
  }
 },
 "nbformat": 4,
 "nbformat_minor": 5
}
